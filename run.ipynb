{
 "cells": [
  {
   "cell_type": "markdown",
   "metadata": {},
   "source": [
    "# Requirements"
   ]
  },
  {
   "cell_type": "code",
   "execution_count": 1,
   "metadata": {},
   "outputs": [],
   "source": [
    "import json\n",
    "from parser import CoinMarketCapParser"
   ]
  },
  {
   "cell_type": "markdown",
   "metadata": {},
   "source": [
    "# Init parser and pages count"
   ]
  },
  {
   "cell_type": "code",
   "execution_count": 6,
   "metadata": {},
   "outputs": [],
   "source": [
    "pages = 10\n",
    "parser = CoinMarketCapParser()"
   ]
  },
  {
   "cell_type": "markdown",
   "metadata": {},
   "source": [
    "# Parse data"
   ]
  },
  {
   "cell_type": "code",
   "execution_count": 9,
   "metadata": {},
   "outputs": [
    {
     "data": {
      "text/plain": [
       "[{'name': 'Bitcoin',\n",
       "  'symbol': 'BTC',\n",
       "  'link': '/currencies/bitcoin/',\n",
       "  'coinmarketcap_id': 1,\n",
       "  'market_cap': 1271211507374.0},\n",
       " {'name': 'Ethereum',\n",
       "  'symbol': 'ETH',\n",
       "  'link': '/currencies/ethereum/',\n",
       "  'coinmarketcap_id': 1027,\n",
       "  'market_cap': 378710168994.0},\n",
       " {'name': 'Tether',\n",
       "  'symbol': 'USDT',\n",
       "  'link': '/currencies/tether/',\n",
       "  'coinmarketcap_id': 825,\n",
       "  'market_cap': 114414783872.0},\n",
       " {'name': 'BNB',\n",
       "  'symbol': 'BNB',\n",
       "  'link': '/currencies/bnb/',\n",
       "  'coinmarketcap_id': 1839,\n",
       "  'market_cap': 83346363029.0},\n",
       " {'name': 'Solana',\n",
       "  'symbol': 'SOL',\n",
       "  'link': '/currencies/solana/',\n",
       "  'coinmarketcap_id': 5426,\n",
       "  'market_cap': 76318859105.0}]"
      ]
     },
     "execution_count": 9,
     "metadata": {},
     "output_type": "execute_result"
    }
   ],
   "source": [
    "tokens = list()\n",
    "for page in range(1, pages+1):\n",
    "    parser.open_page(page)\n",
    "    tokens.extend(parser.get_list_of_tokens())\n",
    "tokens[:5]"
   ]
  },
  {
   "cell_type": "markdown",
   "metadata": {},
   "source": [
    "# Save results"
   ]
  },
  {
   "cell_type": "code",
   "execution_count": 10,
   "metadata": {},
   "outputs": [
    {
     "name": "stdout",
     "output_type": "stream",
     "text": [
      "Parsing ends. There are 999 tokens.\n"
     ]
    }
   ],
   "source": [
    "with open(\"data/top_tokens_by_marketcap.json\", \"wt\") as file:\n",
    "    json.dump(tokens, file, indent=4)\n",
    "    \n",
    "print(f\"Parsing ends. There are {len(tokens)} tokens.\")"
   ]
  }
 ],
 "metadata": {
  "kernelspec": {
   "display_name": ".venv",
   "language": "python",
   "name": "python3"
  },
  "language_info": {
   "codemirror_mode": {
    "name": "ipython",
    "version": 3
   },
   "file_extension": ".py",
   "mimetype": "text/x-python",
   "name": "python",
   "nbconvert_exporter": "python",
   "pygments_lexer": "ipython3",
   "version": "3.12.2"
  }
 },
 "nbformat": 4,
 "nbformat_minor": 2
}
